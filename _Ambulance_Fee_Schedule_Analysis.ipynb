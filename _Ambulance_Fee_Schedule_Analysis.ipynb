{
 "cells": [
  {
   "cell_type": "markdown",
   "metadata": {},
   "source": [
    "### Table of Contents\n",
    "\n",
    "* [1: Importing, Merging, and Cleaning the Data](#import_merge_clean_1)\n",
    "    * [1.1: Import](#import_1_1)\n",
    "    * [1.2: Merge](#merge_1_2)\n",
    "        * [1.2.1: Merge HCPCS Codes](#merge_hcpcs_1_2_1)\n",
    "        * [1.2.2: Merge Carrier Codes](#merge_carrier_1_2_2)\n",
    "        * [1.2.3: Merge Locality Codes](#merge_locality_1_2_3)\n",
    "    * [1.3: Clean](#clean_1_3)\n",
    "* [2: Visualization](#vis_2)\n",
    "    * [2.1: Nation-Wide](#vis_nation_2_1)\n",
    "    * [2.2: Statewide](#vis_state_2_2)\n",
    "* [3: Business Application](#business_app_3)\n",
    "    * [3.1: Revenue Forecasting](#business_app_rev_3_1)\n",
    "    * [3.2: Statewide](#business_app_rev_3_2)"
   ]
  },
  {
   "cell_type": "markdown",
   "metadata": {},
   "source": [
    "### 1 - Importing, Merging, and Cleaning the Data<a class=\"anchor\" id=\"import_merge_clean_1\"></a>"
   ]
  },
  {
   "cell_type": "markdown",
   "metadata": {},
   "source": [
    "#### 1.1 - Import<a class=\"anchor\" id=\"import_1_1\"></a>\n",
    "* Download Ambulance Fee Schedule from [The Centers for Medicare & Medicaid Services](https://www.cms.gov/Medicare/Medicare-Fee-for-Service-Payment/AmbulanceFeeSchedule/), CMS"
   ]
  },
  {
   "cell_type": "code",
   "execution_count": 1,
   "metadata": {
    "scrolled": true
   },
   "outputs": [
    {
     "name": "stdout",
     "output_type": "stream",
     "text": [
      "Downloaded: afs_2005.zip\n",
      "Downloaded: 2006_afs.zip\n",
      "Downloaded: 2007_afs.zip\n",
      "Downloaded: 2008_Ambulance_Fee_Schedule_PUF_update.zip\n",
      "Downloaded: 2009_AFS_PUF.zip\n",
      "Downloaded: 2010_AFS_PUF.zip\n",
      "Downloaded: 2011_AFS_PUF.zip\n",
      "Downloaded: 2012_AFS_PUF.zip\n",
      "Downloaded: 2013-AFS-PUF.zip\n",
      "Downloaded: 2014-AFS-PUF.zip\n",
      "Downloaded: 2015-AFS-PUF.zip\n",
      "Downloaded: 2016-AFS-PUF.zip\n",
      "Downloaded: CY-2017-File.zip\n",
      "Downloaded: 2018-AFS-PUF.zip\n",
      "Downloaded: 2019-AFS-PUF.zip\n",
      "Downloaded: cy-2020-file.zip\n"
     ]
    }
   ],
   "source": [
    "# List of urls to Ambulance Fee Schedule data\n",
    "lst_url = ['https://www.cms.gov/Medicare/Medicare-Fee-for-Service-Payment/AmbulanceFeeSchedule/Downloads/afs_2005.zip',\n",
    "          'https://www.cms.gov/Medicare/Medicare-Fee-for-Service-Payment/AmbulanceFeeSchedule/Downloads/2006_afs.zip',\n",
    "          'https://www.cms.gov/Medicare/Medicare-Fee-for-Service-Payment/AmbulanceFeeSchedule/Downloads/2007_afs.zip',\n",
    "          'https://www.cms.gov/Medicare/Medicare-Fee-for-Service-Payment/AmbulanceFeeSchedule/Downloads/2008_Ambulance_Fee_Schedule_PUF_update.zip',\n",
    "          'https://www.cms.gov/Medicare/Medicare-Fee-for-Service-Payment/AmbulanceFeeSchedule/Downloads/2009_AFS_PUF.zip',\n",
    "          'https://www.cms.gov/Medicare/Medicare-Fee-for-Service-Payment/AmbulanceFeeSchedule/Downloads/2010_AFS_PUF.zip',\n",
    "          'https://www.cms.gov/Medicare/Medicare-Fee-for-Service-Payment/AmbulanceFeeSchedule/Downloads/2011_AFS_PUF.zip',\n",
    "          'https://www.cms.gov/Medicare/Medicare-Fee-for-Service-Payment/AmbulanceFeeSchedule/Downloads/2012_AFS_PUF.zip',\n",
    "          'https://www.cms.gov/Medicare/Medicare-Fee-for-Service-Payment/AmbulanceFeeSchedule/Downloads/2013-AFS-PUF.zip',\n",
    "          'https://www.cms.gov/Medicare/Medicare-Fee-for-Service-Payment/AmbulanceFeeSchedule/Downloads/2014-AFS-PUF.zip',\n",
    "          'https://www.cms.gov/Medicare/Medicare-Fee-for-Service-Payment/AmbulanceFeeSchedule/Downloads/2015-AFS-PUF.zip',\n",
    "          'https://www.cms.gov/Medicare/Medicare-Fee-for-Service-Payment/AmbulanceFeeSchedule/Downloads/2016-AFS-PUF.zip',\n",
    "          'https://www.cms.gov/Medicare/Medicare-Fee-for-Service-Payment/AmbulanceFeeSchedule/Downloads/CY-2017-File.zip',\n",
    "          'https://www.cms.gov/Medicare/Medicare-Fee-for-Service-Payment/AmbulanceFeeSchedule/Downloads/2018-AFS-PUF.zip',\n",
    "          'https://www.cms.gov/Medicare/Medicare-Fee-for-Service-Payment/AmbulanceFeeSchedule/Downloads/2019-AFS-PUF.zip',\n",
    "          'https://www.cms.gov/files/zip/cy-2020-file.zip']\n",
    "\n",
    "# Import the data using the wget package\n",
    "# !pip install wget\n",
    "import wget\n",
    "for url in lst_url:\n",
    "    wget.download(url)\n",
    "    file_name = url.split('/')[-1]\n",
    "    print(f'Downloaded: {file_name}')\n",
    "    \n",
    "# Get list of zip files in current directory (name changes from website to here)\n",
    "import os\n",
    "zip_files = [f for f in os.listdir('.') if os.path.isfile(f) and f[-3:]=='zip'];\n",
    "\n",
    "# Extract zip files to data folder\n",
    "import zipfile\n",
    "for file in zip_files:\n",
    "    with zipfile.ZipFile(file, 'r') as zip_ref:\n",
    "        zip_ref.extractall('data')\n",
    "        \n",
    "# Delete zip files\n",
    "for file in zip_files:\n",
    "    os.remove(file)\n",
    "\n",
    "# Rename relevant spreadsheets\n",
    "os.rename('./data/' + 'ambfspuf_2013_2ndrevisedfinal.xlsx', './data/' + '2013.xlsx')\n",
    "os.rename('./data/' + 'ambfspuf 1Q2014_ext_finalv2.xlsx', './data/' + '2014.xlsx')\n",
    "os.rename('./data/' + 'ambfspuf_2016_.xlsx', './data/' + '2016.xlsx')\n",
    "\n",
    "# Delete non txt files\n",
    "non_txt_files = [f for f in os.listdir('./data/') if f[-3:]!='txt']\n",
    "txt_files = [f for f in os.listdir('./data/') if f[-3:]=='txt']\n",
    "keep_files = ['2013.xlsx', '2014.xlsx', '2016.xlsx']\n",
    "for file in non_txt_files:\n",
    "    if file not in keep_files:\n",
    "        os.remove('./data/' + file)\n",
    "\n",
    "# Rename txt files for redability\n",
    "txt_files_rename = []\n",
    "for file in txt_files:\n",
    "    s = ''.join([i for i in file if i.isnumeric()])\n",
    "    idx_yr = s.find('2')\n",
    "    s = s[idx_yr:idx_yr + 4] + '.txt'\n",
    "    txt_files_rename.append(s)\n",
    "txt_files_rename\n",
    "for i in range(len(txt_files)):\n",
    "    os.rename('./data/' + txt_files[i], './data/' + txt_files_rename[i])\n",
    "os.remove('./data/8.txt')\n",
    "os.remove('./data/2013.txt')\n",
    "os.remove('./data/2014.txt')\n",
    "os.remove('./data/2016.txt')"
   ]
  },
  {
   "cell_type": "markdown",
   "metadata": {},
   "source": [
    "#### Create dataframe for each year"
   ]
  },
  {
   "cell_type": "code",
   "execution_count": 2,
   "metadata": {},
   "outputs": [],
   "source": [
    "# Clean data and create dataframe for each year\n",
    "import pandas as pd\n",
    "\n",
    "# Create list of years with associated txt files\n",
    "lst_txt = [2009, 2010, 2011, 2015, 2012, 2017, 2018, 2019, 2020]\n",
    "\n",
    "# Create list of years with associated xlsx files\n",
    "lst_xlsx = [2013, 2014, 2016,]\n",
    "\n",
    "# Create pandas df for each txt file / year\n",
    "for yr in lst_txt:\n",
    "    df_name = 'df_' + str(yr)\n",
    "    globals()[df_name] = pd.read_csv('./data/' + str(yr) + '.txt', sep=\"\\t\", dtype={'CONTRACTOR/CARRIER': str,'contractor/carrier': str})\n",
    "    globals()[df_name] = globals()[df_name].iloc[:, : 10]\n",
    "    \n",
    "# Create pandas df for each xlsx file / year\n",
    "for yr in lst_xlsx:\n",
    "    df_name = 'df_' + str(yr)\n",
    "    globals()[df_name] = pd.read_excel('./data/' + str(yr) + '.xlsx')\n",
    "    globals()[df_name] = globals()[df_name].iloc[:, : 10]\n",
    "\n",
    "# Create list of all dataframes\n",
    "lst_df = [df_2009,df_2010,df_2011,\n",
    "          df_2012,df_2013,df_2014,\n",
    "          df_2015,df_2016,df_2017,\n",
    "          df_2018,df_2019,df_2020]\n",
    "\n",
    "# Create list of column names to superimpose on each df for consistency\n",
    "col_consistent = ['contractor/carrier', 'locality', 'hcpcs', 'rvu', 'gpci', 'base rate', 'urban base rate / urban mileage', 'rural base rate / rural mileage', 'rural base rate / lowest quartile', 'rural ground miles']\n",
    "\n",
    "# Assign column names to each dataframe\n",
    "for i in range(len(lst_df)):\n",
    "    lst_df[i].columns = col_consistent\n",
    "    # Convert locality to float\n",
    "    lst_df[i]['locality'] = lst_df[i]['locality'].astype(float)\n",
    "    # Found ID errors in data\n",
    "    lst_df[i]['contractor/carrier'] = lst_df[i]['contractor/carrier'].astype(str).str.replace('01112', '01102').str.replace('10112', '10102').str.replace('10212', '10202').str.replace('10312', '10302')\n",
    "    # Remove $ signs and convert to float\n",
    "    lst_df[i]['base rate'] = lst_df[i]['base rate'].astype(str).str.replace('$', '').str.replace(',', '').astype(float)\n",
    "    lst_df[i]['urban base rate / urban mileage'] = lst_df[i]['urban base rate / urban mileage'].astype(str).str.replace('$', '').str.replace(',', '').astype(float)\n",
    "    lst_df[i]['rural base rate / rural mileage'] = lst_df[i]['rural base rate / rural mileage'].astype(str).str.replace('$', '').str.replace(',', '').astype(float)\n",
    "    lst_df[i]['rural base rate / lowest quartile'] = lst_df[i]['rural base rate / lowest quartile'].astype(str).str.replace('$', '').str.replace(',', '').astype(float)\n",
    "    lst_df[i]['rural ground miles'] = lst_df[i]['rural ground miles'].astype(str).str.replace('$', '').str.replace(',', '').astype(float)\n",
    "    \n",
    "# Some dataframes have labels for various states and NA values following. Delete these rows\n",
    "for i in range(len(lst_df)):\n",
    "    lst_df[i] = lst_df[i].loc[~lst_df[i]['locality'].isna()]"
   ]
  },
  {
   "cell_type": "markdown",
   "metadata": {},
   "source": [
    "#### 1.2 - Merge<a class=\"anchor\" id=\"merge_1_2\"></a>"
   ]
  },
  {
   "cell_type": "markdown",
   "metadata": {},
   "source": [
    "##### 1.2.1 - Merge HCPCS Codes<a class=\"anchor\" id=\"merge_hcpcs_1_2_1\"></a>\n",
    "* \"HCPCS is a collection of standardized codes that represent medical procedures, supplies, products and services.\" [source](https://www.nlm.nih.gov/research/umls/sourcereleasedocs/current/HCPCS/index.html#:~:text=HCPCS%20is%20a%20collection%20of,by%20Medicare%20and%20other%20insurers.&text=HCPCS%20is%20divided%20into%20two%20subsystems%2C%20Level%20I%20and%20Level%20II.)\n",
    "* Join Alpha-Numeric HCPCS Codes (i.e. all the different activities to be billed) [download](https://www.cms.gov/Medicare/Coding/HCPCSReleaseCodeSets/Alpha-Numeric-HCPCS)"
   ]
  },
  {
   "cell_type": "code",
   "execution_count": 3,
   "metadata": {
    "scrolled": false
   },
   "outputs": [],
   "source": [
    "# Import HCPCS Code dataframe\n",
    "df_code = pd.read_excel('./_hcpcs/HCPCS_2020.xlsx')\n",
    "\n",
    "# Lowercase column names\n",
    "df_code.columns = df_code.columns.str.lower()\n",
    "\n",
    "# Merge HCPCS dataframe with main dataframe\n",
    "lst_yrs = [yr for yr in range(2009,2020+1)]\n",
    "for i in range(len(lst_yrs)):\n",
    "    lst_df[i] = pd.merge(lst_df[i], df_code[['hcpc/mod', 'short description', 'long description']], how='left', left_on='hcpcs', right_on='hcpc/mod')"
   ]
  },
  {
   "cell_type": "markdown",
   "metadata": {},
   "source": [
    "##### 1.2.2 - Merge Carrier Codes<a class=\"anchor\" id=\"merge_carrier_1_2_2\"></a>\n",
    "* Import contractor/carrier code data and perform string manipulation"
   ]
  },
  {
   "cell_type": "code",
   "execution_count": 4,
   "metadata": {},
   "outputs": [],
   "source": [
    "# Loop through 2009-2016 years, save as dataframe, and performe string manipulation\n",
    "for yr in lst_yrs:\n",
    "    df_name = 'df_carrier_code_' + str(yr)\n",
    "    try:\n",
    "        globals()[df_name] = pd.read_csv('./_index/' + str(yr) + '.csv', header=None)\n",
    "    except:\n",
    "        globals()[df_name] = pd.read_excel('./_index/' + str(yr) + '.xlsx', header=None)\n",
    "    \n",
    "    # new data frame with split value columns \n",
    "    split_columns = globals()[df_name][0].str.split(\" \", n = 1, expand = True)\n",
    "    \n",
    "    # making separate contractor/carrier column from new data frame \n",
    "    globals()[df_name][\"contractor/carrier\"] = split_columns[0]\n",
    "    globals()[df_name][\"contractor/carrier\"] = globals()[df_name][\"contractor/carrier\"].astype(str).str.replace('U', '').str.strip()\n",
    "    # Found ID errors in data\n",
    "    globals()[df_name]['contractor/carrier'] = globals()[df_name]['contractor/carrier'].str.replace('0632', '06302').str.replace('01112', '01102')\n",
    "    \n",
    "    # making separate location column from new data frame \n",
    "    globals()[df_name][\"contractor/carrier name\"]= split_columns[1].str.replace('\\d+', '').str.replace('-', '').str.strip().str.replace('-', '').str.lower()\n",
    "    \n",
    "    # reducing number of columns in data frame\n",
    "    globals()[df_name] = globals()[df_name][[\"contractor/carrier\", \"contractor/carrier name\"]]\n",
    "\n",
    "# Create list of dataframes for convenient merging\n",
    "lst_carrier_df = [df_carrier_code_2009,df_carrier_code_2010,df_carrier_code_2011,\n",
    "                  df_carrier_code_2012,df_carrier_code_2013,df_carrier_code_2014,\n",
    "                  df_carrier_code_2015,df_carrier_code_2016,df_carrier_code_2017,\n",
    "                  df_carrier_code_2018,df_carrier_code_2019,df_carrier_code_2020]\n",
    "\n",
    "#  Merge the datasets\n",
    "for i in range(len(lst_yrs)):\n",
    "    lst_df[i] = pd.merge(lst_df[i], lst_carrier_df[i], how='left', left_on='contractor/carrier', right_on='contractor/carrier')"
   ]
  },
  {
   "cell_type": "markdown",
   "metadata": {},
   "source": [
    "##### 1.2.3 - Merge Locality Codes<a class=\"anchor\" id=\"merge_locality_1_2_3\"></a>"
   ]
  },
  {
   "cell_type": "code",
   "execution_count": 6,
   "metadata": {
    "scrolled": true
   },
   "outputs": [],
   "source": [
    "import numpy as np\n",
    "\n",
    "# Create pandas df for each txt file / year\n",
    "for yr in lst_yrs:\n",
    "    df_name = 'df_' + str(yr) + '_locality'\n",
    "    globals()[df_name] = pd.read_csv('./_locality/RVU' + str(yr)[-2:] + '/' + str(yr)[-2:] + 'LOCCO.csv')\n",
    "    # Drop rows with all NA or all ' '\n",
    "    globals()[df_name].replace(' ', np.NaN, inplace=True)\n",
    "    globals()[df_name].dropna(how = 'all', inplace = True)\n",
    "    # Convert locality number to float for merging\n",
    "    globals()[df_name]['Locality Number'] = globals()[df_name]['Locality Number'].astype(float)\n",
    "    # Need Carrier Codes to be 5 in length\n",
    "    globals()[df_name]['Carrier Number'] = '000000' + globals()[df_name]['Carrier Number']\n",
    "    globals()[df_name]['Carrier Number'] = globals()[df_name]['Carrier Number'].str[-5:]\n",
    "    # Found ID errors in data\n",
    "    globals()[df_name]['Carrier Number'] = globals()[df_name]['Carrier Number'].astype(str).str.replace('01112', '01102').str.replace('10112', '10102').str.replace('10212', '10202').str.replace('10312', '10302').str.replace('00590', '09102').str.replace('00973', '09202')\n",
    "    # Convert column names to lower case\n",
    "    globals()[df_name].columns = [i.lower() for i in globals()[df_name].columns]\n",
    "    # Rename columns\n",
    "    globals()[df_name].rename(columns={\"fee schedule area \": \"locality name\"}, inplace=True)\n",
    "    # Convert Locality Name to lowercase\n",
    "    globals()[df_name]['locality name'] = globals()[df_name]['locality name'].str.lower()\n",
    "\n",
    "lst_locality_df = [df_2009_locality,df_2010_locality,df_2011_locality,\n",
    "                   df_2012_locality,df_2013_locality,df_2014_locality,\n",
    "                   df_2015_locality,df_2016_locality,df_2017_locality,\n",
    "                   df_2018_locality,df_2019_locality,df_2020_locality]\n",
    "\n",
    "#  Merge the datasets\n",
    "for i in range(len(lst_yrs)):\n",
    "    lst_df[i] = pd.merge(lst_df[i], lst_locality_df[i], how='left', left_on=['contractor/carrier', 'locality'], right_on=['carrier number', 'locality number'])"
   ]
  },
  {
   "cell_type": "markdown",
   "metadata": {},
   "source": [
    "#### 1.3 - Clean<a class=\"anchor\" id=\"clean_1_3\"></a>"
   ]
  },
  {
   "cell_type": "code",
   "execution_count": 7,
   "metadata": {},
   "outputs": [
    {
     "data": {
      "text/html": [
       "<div>\n",
       "<style scoped>\n",
       "    .dataframe tbody tr th:only-of-type {\n",
       "        vertical-align: middle;\n",
       "    }\n",
       "\n",
       "    .dataframe tbody tr th {\n",
       "        vertical-align: top;\n",
       "    }\n",
       "\n",
       "    .dataframe thead th {\n",
       "        text-align: right;\n",
       "    }\n",
       "</style>\n",
       "<table border=\"1\" class=\"dataframe\">\n",
       "  <thead>\n",
       "    <tr style=\"text-align: right;\">\n",
       "      <th></th>\n",
       "      <th>year</th>\n",
       "      <th>contractor/carrier</th>\n",
       "      <th>contractor/carrier name</th>\n",
       "      <th>locality</th>\n",
       "      <th>locality name</th>\n",
       "      <th>hcpcs</th>\n",
       "      <th>short description</th>\n",
       "      <th>long description</th>\n",
       "      <th>rvu</th>\n",
       "      <th>gpci</th>\n",
       "      <th>base rate</th>\n",
       "      <th>urban base rate / urban mileage</th>\n",
       "      <th>rural base rate / rural mileage</th>\n",
       "      <th>rural base rate / lowest quartile</th>\n",
       "      <th>rural ground miles</th>\n",
       "    </tr>\n",
       "  </thead>\n",
       "  <tbody>\n",
       "    <tr>\n",
       "      <th>98</th>\n",
       "      <td>2010</td>\n",
       "      <td>00835</td>\n",
       "      <td>oregon</td>\n",
       "      <td>99.0</td>\n",
       "      <td>rest of oregon</td>\n",
       "      <td>A0427</td>\n",
       "      <td>Als1-emergency</td>\n",
       "      <td>Ambulance service, advanced life support, emer...</td>\n",
       "      <td>209.65</td>\n",
       "      <td>1.90</td>\n",
       "      <td>0.964</td>\n",
       "      <td>396.060000</td>\n",
       "      <td>399.950000</td>\n",
       "      <td>490.330</td>\n",
       "      <td>NaN</td>\n",
       "    </tr>\n",
       "    <tr>\n",
       "      <th>805</th>\n",
       "      <td>2016</td>\n",
       "      <td>11502</td>\n",
       "      <td>north carolina</td>\n",
       "      <td>0.0</td>\n",
       "      <td>statewide</td>\n",
       "      <td>A0426</td>\n",
       "      <td>Als 1</td>\n",
       "      <td>Ambulance service, advanced life support, non-...</td>\n",
       "      <td>220.74</td>\n",
       "      <td>1.20</td>\n",
       "      <td>0.930</td>\n",
       "      <td>256.946658</td>\n",
       "      <td>259.465743</td>\n",
       "      <td>318.105</td>\n",
       "      <td>NaN</td>\n",
       "    </tr>\n",
       "    <tr>\n",
       "      <th>908</th>\n",
       "      <td>2009</td>\n",
       "      <td>12402</td>\n",
       "      <td>new jersey</td>\n",
       "      <td>1.0</td>\n",
       "      <td>northern nj</td>\n",
       "      <td>A0433</td>\n",
       "      <td>Als 2</td>\n",
       "      <td>Advanced life support, level 2 (als 2)</td>\n",
       "      <td>212.13</td>\n",
       "      <td>2.75</td>\n",
       "      <td>1.228</td>\n",
       "      <td>689.990000</td>\n",
       "      <td>696.760000</td>\n",
       "      <td>854.230</td>\n",
       "      <td>NaN</td>\n",
       "    </tr>\n",
       "  </tbody>\n",
       "</table>\n",
       "</div>"
      ],
      "text/plain": [
       "     year contractor/carrier contractor/carrier name  locality  \\\n",
       "98   2010              00835                  oregon      99.0   \n",
       "805  2016              11502          north carolina       0.0   \n",
       "908  2009              12402              new jersey       1.0   \n",
       "\n",
       "      locality name  hcpcs short description  \\\n",
       "98   rest of oregon  A0427    Als1-emergency   \n",
       "805      statewide   A0426             Als 1   \n",
       "908    northern nj   A0433             Als 2   \n",
       "\n",
       "                                      long description     rvu  gpci  \\\n",
       "98   Ambulance service, advanced life support, emer...  209.65  1.90   \n",
       "805  Ambulance service, advanced life support, non-...  220.74  1.20   \n",
       "908             Advanced life support, level 2 (als 2)  212.13  2.75   \n",
       "\n",
       "     base rate  urban base rate / urban mileage  \\\n",
       "98       0.964                       396.060000   \n",
       "805      0.930                       256.946658   \n",
       "908      1.228                       689.990000   \n",
       "\n",
       "     rural base rate / rural mileage  rural base rate / lowest quartile  \\\n",
       "98                        399.950000                            490.330   \n",
       "805                       259.465743                            318.105   \n",
       "908                       696.760000                            854.230   \n",
       "\n",
       "     rural ground miles  \n",
       "98                  NaN  \n",
       "805                 NaN  \n",
       "908                 NaN  "
      ]
     },
     "execution_count": 7,
     "metadata": {},
     "output_type": "execute_result"
    }
   ],
   "source": [
    "# Create list of column names for an intuitive reordering\n",
    "col_reorder = ['year','contractor/carrier','contractor/carrier name',\n",
    "               'locality','locality name', 'hcpcs','short description','long description',\n",
    "               'rvu','gpci','base rate','urban base rate / urban mileage',\n",
    "               'rural base rate / rural mileage','rural base rate / lowest quartile',\n",
    "               'rural ground miles']\n",
    "\n",
    "# Reorder columns\n",
    "for i in range(len(lst_yrs)):\n",
    "    lst_df[i]['year'] = lst_yrs[i]\n",
    "    lst_df[i] = lst_df[i][col_reorder]\n",
    "    \n",
    "# Compile all dataframes\n",
    "df = pd.concat(lst_df)\n",
    "df.sample(3)"
   ]
  },
  {
   "cell_type": "markdown",
   "metadata": {},
   "source": [
    "### 2 - Visualization<a class=\"anchor\" id=\"vis_2\"></a>"
   ]
  },
  {
   "cell_type": "markdown",
   "metadata": {},
   "source": [
    "#### In order to proceed with our analysis let us define the features in our data\n",
    "* *Year* - Year of fee schedule\n",
    "\n",
    "* *Contractor/Carrier* - Entity which has the responsibility for adjudicating and paying claims within a defined geographical location\n",
    "\n",
    "* *Locality* - This field represents subsets of locations within a defined jurisdiction with different GPCI\n",
    "\n",
    "* *HCPCS* - This field has the full range of HCPCS services payable under the ambulance fee schedule\n",
    "    * \"HCPCS is a collection of standardized codes that represent medical procedures, supplies, products and services.\" [source](https://www.nlm.nih.gov/research/umls/sourcereleasedocs/current/HCPCS/index.html#:~:text=HCPCS%20is%20a%20collection%20of,by%20Medicare%20and%20other%20insurers.&text=HCPCS%20is%20divided%20into%20two%20subsystems%2C%20Level%20I%20and%20Level%20II.)\n",
    "    \n",
    "* *Relative Value Unit (RVU)* - Ratio from 1 - 3.25 rating the complexity or cost of a given ambulance ride (i.e. a normal ambulance ride has an RVU of 1). The RVU Values are:\n",
    "    * BLS (A0428) 1.00 \n",
    "    * ALS1 (A0426) 1.20 \n",
    "    * BLS - Emergency (A0429) 1.60 \n",
    "    * PI (A0432) 1.75\n",
    "    * ALS1- Emergency (A0427) 1.90 \n",
    "    * ALS2 (A0433) 2.75 \n",
    "    * SCT (A0434) 3.25 \n",
    "    \n",
    "* *Geographic Practice Cost Index (GPCI)* - \"Inflation factor\" to adjust payment to account for regional differences\n",
    "\n",
    "* *Base Rate* - The Base Rate is a nationally uniform “base” amount used to calculate each HCPCS’ payment amount\n",
    "\n",
    "* *Urban Base Rate / Mileage* - Equation that calculates urban fee rate based on RVU, GPCI, and National Base Rate\n",
    "\n",
    "* *Rural Base Rate / Mileage* - Equation that calculates rural fee rate based on RVU, GPCI, and National Base Rate\n",
    "\n",
    "* *Rural Base Rate / Lowest Quartile* - This field displays the rural base rate adjusted by the “super-rural bonus” multiplier of 22.6%. This is to incentivize medical services in sparsely populated areas\n",
    "\n",
    "* *Rural Ground Miles* - This field displays the amounts for rural ground miles 1-17\n"
   ]
  },
  {
   "cell_type": "markdown",
   "metadata": {},
   "source": [
    "#### 2.1 - Nation-Wide<a class=\"anchor\" id=\"vis_nation_2_1\"></a>"
   ]
  },
  {
   "cell_type": "code",
   "execution_count": 8,
   "metadata": {},
   "outputs": [
    {
     "data": {
      "text/plain": [
       "array(['brazoria', 'dallas', 'galveston', 'houston', 'beaumont',\n",
       "       'fort worth', 'austin', 'rest of state ', 'brazoria, tx',\n",
       "       'dallas, tx', 'galveston, tx', 'houston, tx', 'beaumont, tx',\n",
       "       'fort worth, tx', 'austin, tx', 'rest of texas'], dtype=object)"
      ]
     },
     "execution_count": 8,
     "metadata": {},
     "output_type": "execute_result"
    }
   ],
   "source": [
    "df.loc[df['contractor/carrier name'] == 'texas']['locality name'].unique()"
   ]
  },
  {
   "cell_type": "markdown",
   "metadata": {},
   "source": [
    "#### 2.2 - Statewide<a class=\"anchor\" id=\"vis_state_2_2\"></a>"
   ]
  },
  {
   "cell_type": "code",
   "execution_count": null,
   "metadata": {},
   "outputs": [],
   "source": []
  },
  {
   "cell_type": "markdown",
   "metadata": {},
   "source": [
    "### 3 - Business Application<a class=\"anchor\" id=\"business_app_3\"></a>"
   ]
  },
  {
   "cell_type": "code",
   "execution_count": null,
   "metadata": {},
   "outputs": [],
   "source": []
  },
  {
   "cell_type": "markdown",
   "metadata": {},
   "source": [
    "#### 3.1 - Revenue Forecasting<a class=\"anchor\" id=\"business_app_rev_3_1\"></a>"
   ]
  },
  {
   "cell_type": "code",
   "execution_count": null,
   "metadata": {},
   "outputs": [],
   "source": []
  },
  {
   "cell_type": "markdown",
   "metadata": {},
   "source": [
    "#### 3.2 - Statewide<a class=\"anchor\" id=\"business_app_rev_3_2\"></a>"
   ]
  },
  {
   "cell_type": "code",
   "execution_count": null,
   "metadata": {},
   "outputs": [],
   "source": []
  },
  {
   "cell_type": "code",
   "execution_count": null,
   "metadata": {},
   "outputs": [],
   "source": []
  },
  {
   "cell_type": "code",
   "execution_count": null,
   "metadata": {},
   "outputs": [],
   "source": []
  },
  {
   "cell_type": "code",
   "execution_count": null,
   "metadata": {},
   "outputs": [],
   "source": []
  },
  {
   "cell_type": "code",
   "execution_count": null,
   "metadata": {},
   "outputs": [],
   "source": []
  },
  {
   "cell_type": "code",
   "execution_count": null,
   "metadata": {},
   "outputs": [],
   "source": []
  },
  {
   "cell_type": "code",
   "execution_count": null,
   "metadata": {},
   "outputs": [],
   "source": []
  },
  {
   "cell_type": "code",
   "execution_count": null,
   "metadata": {},
   "outputs": [],
   "source": []
  },
  {
   "cell_type": "code",
   "execution_count": null,
   "metadata": {},
   "outputs": [],
   "source": []
  },
  {
   "cell_type": "code",
   "execution_count": null,
   "metadata": {},
   "outputs": [],
   "source": []
  },
  {
   "cell_type": "code",
   "execution_count": null,
   "metadata": {},
   "outputs": [],
   "source": []
  },
  {
   "cell_type": "code",
   "execution_count": null,
   "metadata": {},
   "outputs": [],
   "source": []
  },
  {
   "cell_type": "code",
   "execution_count": null,
   "metadata": {},
   "outputs": [],
   "source": []
  },
  {
   "cell_type": "code",
   "execution_count": null,
   "metadata": {},
   "outputs": [],
   "source": []
  },
  {
   "cell_type": "code",
   "execution_count": null,
   "metadata": {},
   "outputs": [],
   "source": []
  },
  {
   "cell_type": "code",
   "execution_count": null,
   "metadata": {},
   "outputs": [],
   "source": []
  }
 ],
 "metadata": {
  "kernelspec": {
   "display_name": "Python 3",
   "language": "python",
   "name": "python3"
  },
  "language_info": {
   "codemirror_mode": {
    "name": "ipython",
    "version": 3
   },
   "file_extension": ".py",
   "mimetype": "text/x-python",
   "name": "python",
   "nbconvert_exporter": "python",
   "pygments_lexer": "ipython3",
   "version": "3.7.6"
  }
 },
 "nbformat": 4,
 "nbformat_minor": 4
}

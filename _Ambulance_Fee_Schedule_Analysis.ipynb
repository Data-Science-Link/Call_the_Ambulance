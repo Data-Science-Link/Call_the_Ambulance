{
 "cells": [
  {
   "cell_type": "markdown",
   "metadata": {},
   "source": [
    "### Table of Contents\n",
    "\n",
    "* [1: Importing, Merging, and Cleaning the Data](#import_merge_clean_1)\n",
    "    * [1.1: Import](#import_1_1)\n",
    "    * [1.2: Merge](#merge_1_2)\n",
    "        * [1.2.1: Merge HCPCS Codes](#merge_hcpcs_1_2_1)\n",
    "        * [1.2.2: Merge Carrier Codes](#merge_carrier_1_2_2)\n",
    "    * [1.3: Clean](#clean_1_3)\n",
    "* [2: Visualization](#vis_2)\n",
    "    * [2.1: Nation-Wide](#vis_nation_2_1)\n",
    "    * [2.2: Statewide](#vis_state_2_2)\n",
    "* [3: Business Application](#business_app_3)\n",
    "    * [3.1: Revenue Forecasting](#business_app_rev_3_1)\n",
    "    * [3.2: Statewide](#business_app_rev_3_2)"
   ]
  },
  {
   "cell_type": "markdown",
   "metadata": {},
   "source": [
    "### 1 - Importing, Merging, and Cleaning the Data<a class=\"anchor\" id=\"import_merge_clean_1\"></a>"
   ]
  },
  {
   "cell_type": "markdown",
   "metadata": {},
   "source": [
    "#### 1.1 - Import<a class=\"anchor\" id=\"import_1_1\"></a>\n",
    "* Download Ambulance Fee Schedule from [The Centers for Medicare & Medicaid Services](https://www.cms.gov/Medicare/Medicare-Fee-for-Service-Payment/AmbulanceFeeSchedule/), CMS"
   ]
  },
  {
   "cell_type": "code",
   "execution_count": 1,
   "metadata": {
    "scrolled": true
   },
   "outputs": [
    {
     "name": "stdout",
     "output_type": "stream",
     "text": [
      "Downloaded: afs_2005.zip\n",
      "Downloaded: 2006_afs.zip\n",
      "Downloaded: 2007_afs.zip\n",
      "Downloaded: 2008_Ambulance_Fee_Schedule_PUF_update.zip\n",
      "Downloaded: 2009_AFS_PUF.zip\n",
      "Downloaded: 2010_AFS_PUF.zip\n",
      "Downloaded: 2011_AFS_PUF.zip\n",
      "Downloaded: 2012_AFS_PUF.zip\n",
      "Downloaded: 2013-AFS-PUF.zip\n",
      "Downloaded: 2014-AFS-PUF.zip\n",
      "Downloaded: 2015-AFS-PUF.zip\n",
      "Downloaded: 2016-AFS-PUF.zip\n",
      "Downloaded: CY-2017-File.zip\n",
      "Downloaded: 2018-AFS-PUF.zip\n",
      "Downloaded: 2019-AFS-PUF.zip\n",
      "Downloaded: cy-2020-file.zip\n"
     ]
    }
   ],
   "source": [
    "# List of urls to Ambulance Fee Schedule data\n",
    "lst_url = ['https://www.cms.gov/Medicare/Medicare-Fee-for-Service-Payment/AmbulanceFeeSchedule/Downloads/afs_2005.zip',\n",
    "          'https://www.cms.gov/Medicare/Medicare-Fee-for-Service-Payment/AmbulanceFeeSchedule/Downloads/2006_afs.zip',\n",
    "          'https://www.cms.gov/Medicare/Medicare-Fee-for-Service-Payment/AmbulanceFeeSchedule/Downloads/2007_afs.zip',\n",
    "          'https://www.cms.gov/Medicare/Medicare-Fee-for-Service-Payment/AmbulanceFeeSchedule/Downloads/2008_Ambulance_Fee_Schedule_PUF_update.zip',\n",
    "          'https://www.cms.gov/Medicare/Medicare-Fee-for-Service-Payment/AmbulanceFeeSchedule/Downloads/2009_AFS_PUF.zip',\n",
    "          'https://www.cms.gov/Medicare/Medicare-Fee-for-Service-Payment/AmbulanceFeeSchedule/Downloads/2010_AFS_PUF.zip',\n",
    "          'https://www.cms.gov/Medicare/Medicare-Fee-for-Service-Payment/AmbulanceFeeSchedule/Downloads/2011_AFS_PUF.zip',\n",
    "          'https://www.cms.gov/Medicare/Medicare-Fee-for-Service-Payment/AmbulanceFeeSchedule/Downloads/2012_AFS_PUF.zip',\n",
    "          'https://www.cms.gov/Medicare/Medicare-Fee-for-Service-Payment/AmbulanceFeeSchedule/Downloads/2013-AFS-PUF.zip',\n",
    "          'https://www.cms.gov/Medicare/Medicare-Fee-for-Service-Payment/AmbulanceFeeSchedule/Downloads/2014-AFS-PUF.zip',\n",
    "          'https://www.cms.gov/Medicare/Medicare-Fee-for-Service-Payment/AmbulanceFeeSchedule/Downloads/2015-AFS-PUF.zip',\n",
    "          'https://www.cms.gov/Medicare/Medicare-Fee-for-Service-Payment/AmbulanceFeeSchedule/Downloads/2016-AFS-PUF.zip',\n",
    "          'https://www.cms.gov/Medicare/Medicare-Fee-for-Service-Payment/AmbulanceFeeSchedule/Downloads/CY-2017-File.zip',\n",
    "          'https://www.cms.gov/Medicare/Medicare-Fee-for-Service-Payment/AmbulanceFeeSchedule/Downloads/2018-AFS-PUF.zip',\n",
    "          'https://www.cms.gov/Medicare/Medicare-Fee-for-Service-Payment/AmbulanceFeeSchedule/Downloads/2019-AFS-PUF.zip',\n",
    "          'https://www.cms.gov/files/zip/cy-2020-file.zip']\n",
    "\n",
    "# Import the data using the wget package\n",
    "# !pip install wget\n",
    "import wget\n",
    "for url in lst_url:\n",
    "    wget.download(url)\n",
    "    file_name = url.split('/')[-1]\n",
    "    print(f'Downloaded: {file_name}')\n",
    "    \n",
    "# Get list of zip files in current directory (name changes from website to here)\n",
    "import os\n",
    "zip_files = [f for f in os.listdir('.') if os.path.isfile(f) and f[-3:]=='zip'];\n",
    "\n",
    "# Extract zip files to data folder\n",
    "import zipfile\n",
    "for file in zip_files:\n",
    "    with zipfile.ZipFile(file, 'r') as zip_ref:\n",
    "        zip_ref.extractall('data')\n",
    "        \n",
    "# Delete zip files\n",
    "for file in zip_files:\n",
    "    os.remove(file)\n",
    "\n",
    "# Rename relevant spreadsheets\n",
    "os.rename('./data/' + 'ambfspuf_2013_2ndrevisedfinal.xlsx', './data/' + '2013.xlsx')\n",
    "os.rename('./data/' + 'ambfspuf 1Q2014_ext_finalv2.xlsx', './data/' + '2014.xlsx')\n",
    "os.rename('./data/' + 'ambfspuf_2016_.xlsx', './data/' + '2016.xlsx')\n",
    "\n",
    "# Delete non txt files\n",
    "non_txt_files = [f for f in os.listdir('./data/') if f[-3:]!='txt']\n",
    "txt_files = [f for f in os.listdir('./data/') if f[-3:]=='txt']\n",
    "keep_files = ['2013.xlsx', '2014.xlsx', '2016.xlsx']\n",
    "for file in non_txt_files:\n",
    "    if file not in keep_files:\n",
    "        os.remove('./data/' + file)\n",
    "\n",
    "# Rename txt files for redability\n",
    "txt_files_rename = []\n",
    "for file in txt_files:\n",
    "    s = ''.join([i for i in file if i.isnumeric()])\n",
    "    idx_yr = s.find('2')\n",
    "    s = s[idx_yr:idx_yr + 4] + '.txt'\n",
    "    txt_files_rename.append(s)\n",
    "txt_files_rename\n",
    "for i in range(len(txt_files)):\n",
    "    os.rename('./data/' + txt_files[i], './data/' + txt_files_rename[i])\n",
    "os.remove('./data/8.txt')\n",
    "os.remove('./data/2013.txt')\n",
    "os.remove('./data/2014.txt')\n",
    "os.remove('./data/2016.txt')"
   ]
  },
  {
   "cell_type": "markdown",
   "metadata": {},
   "source": [
    "#### Create dataframe for each year"
   ]
  },
  {
   "cell_type": "code",
   "execution_count": 2,
   "metadata": {},
   "outputs": [],
   "source": [
    "# Clean data and create dataframe for each year\n",
    "import pandas as pd\n",
    "\n",
    "# Create list of years with associated txt files\n",
    "lst_txt = [2009, 2010, 2011, 2015, 2012, 2017, 2018, 2019, 2020]\n",
    "\n",
    "# Create list of years with associated xlsx files\n",
    "lst_xlsx = [2013, 2014, 2016,]\n",
    "\n",
    "# Create pandas df for each txt file / year\n",
    "for yr in lst_txt:\n",
    "    df_name = 'df_' + str(yr)\n",
    "    globals()[df_name] = pd.read_csv('./data/' + str(yr) + '.txt', sep=\"\\t\", dtype={'CONTRACTOR/CARRIER': str,'contractor/carrier': str})\n",
    "    globals()[df_name] = globals()[df_name].iloc[:, : 10]\n",
    "    \n",
    "# Create pandas df for each xlsx file / year\n",
    "for yr in lst_xlsx:\n",
    "    df_name = 'df_' + str(yr)\n",
    "    globals()[df_name] = pd.read_excel('./data/' + str(yr) + '.xlsx')\n",
    "    globals()[df_name] = globals()[df_name].iloc[:, : 10]\n",
    "\n",
    "# Create list of all dataframes\n",
    "lst_df = [df_2009,df_2010,df_2011,\n",
    "          df_2012,df_2013,df_2014,\n",
    "          df_2015,df_2016,df_2017,\n",
    "          df_2018,df_2019,df_2020]\n",
    "\n",
    "# Create list of column names to superimpose on each df for consistency\n",
    "col_consistent = ['contractor/carrier', 'locality', 'hcpcs', 'rvu', 'gpci', 'base rate', 'urban base rate / urban mileage', 'rural base rate / rural mileage', 'rural base rate / lowest quartile', 'rural ground miles']\n",
    "\n",
    "# Assign column names to each dataframe\n",
    "for i in range(len(lst_df)):\n",
    "    lst_df[i].columns = col_consistent\n",
    "    # Found ID errors in data\n",
    "    lst_df[i]['contractor/carrier'] = lst_df[i]['contractor/carrier'].astype(str).str.replace('01112', '01102').str.replace('10112', '10102').str.replace('10212', '10202').str.replace('10312', '10302')\n",
    "    # Remove $ signs and convert to float\n",
    "    lst_df[i]['base rate'] = lst_df[i]['base rate'].astype(str).str.replace('$', '').str.replace(',', '').astype(float)\n",
    "    lst_df[i]['urban base rate / urban mileage'] = lst_df[i]['urban base rate / urban mileage'].astype(str).str.replace('$', '').str.replace(',', '').astype(float)\n",
    "    lst_df[i]['rural base rate / rural mileage'] = lst_df[i]['rural base rate / rural mileage'].astype(str).str.replace('$', '').str.replace(',', '').astype(float)\n",
    "    lst_df[i]['rural base rate / lowest quartile'] = lst_df[i]['rural base rate / lowest quartile'].astype(str).str.replace('$', '').str.replace(',', '').astype(float)\n",
    "    lst_df[i]['rural ground miles'] = lst_df[i]['rural ground miles'].astype(str).str.replace('$', '').str.replace(',', '').astype(float)\n",
    "    \n",
    "# Some dataframes have labels for various states and NA values following. Delete these rows\n",
    "for i in range(len(lst_df)):\n",
    "    lst_df[i] = lst_df[i].loc[~lst_df[i]['locality'].isna()]"
   ]
  },
  {
   "cell_type": "markdown",
   "metadata": {},
   "source": [
    "#### 1.2 - Merge<a class=\"anchor\" id=\"merge_1_2\"></a>"
   ]
  },
  {
   "cell_type": "markdown",
   "metadata": {},
   "source": [
    "##### 1.2.1 - Merge HCPCS Codes<a class=\"anchor\" id=\"merge_hcpcs_1_2_1\"></a>\n",
    "* \"HCPCS is a collection of standardized codes that represent medical procedures, supplies, products and services.\" [source](https://www.nlm.nih.gov/research/umls/sourcereleasedocs/current/HCPCS/index.html#:~:text=HCPCS%20is%20a%20collection%20of,by%20Medicare%20and%20other%20insurers.&text=HCPCS%20is%20divided%20into%20two%20subsystems%2C%20Level%20I%20and%20Level%20II.)\n",
    "* Join Alpha-Numeric HCPCS Codes (i.e. all the different activities to be billed) [download](https://www.cms.gov/Medicare/Coding/HCPCSReleaseCodeSets/Alpha-Numeric-HCPCS)"
   ]
  },
  {
   "cell_type": "code",
   "execution_count": 3,
   "metadata": {
    "scrolled": false
   },
   "outputs": [],
   "source": [
    "# Import HCPCS Code dataframe\n",
    "df_code = pd.read_excel('./_hcpcs/hcpcs2020_anweb/HCPCS_2020.xlsx')\n",
    "\n",
    "# Lowercase column names\n",
    "df_code.columns = df_code.columns.str.lower()\n",
    "\n",
    "# Merge HCPCS dataframe with main dataframe\n",
    "lst_yrs = [yr for yr in range(2009,2020+1)]\n",
    "for i in range(len(lst_yrs)):\n",
    "    lst_df[i] = pd.merge(lst_df[i], df_code[['hcpc/mod', 'short description', 'long description']], how='left', left_on='hcpcs', right_on='hcpc/mod')"
   ]
  },
  {
   "cell_type": "markdown",
   "metadata": {},
   "source": [
    "##### 1.2.2 - Merge Carrier Codes<a class=\"anchor\" id=\"merge_carrier_1_2_2\"></a>\n",
    "* Import contractor/carrier code data and perform string manipulation"
   ]
  },
  {
   "cell_type": "code",
   "execution_count": 4,
   "metadata": {},
   "outputs": [],
   "source": [
    "# Loop through 2009-2016 years, save as dataframe, and performe string manipulation\n",
    "for yr in lst_yrs:\n",
    "    df_name = 'df_carrier_code_' + str(yr)\n",
    "    try:\n",
    "        globals()[df_name] = pd.read_csv('./_index/' + str(yr) + '.csv', header=None)\n",
    "    except:\n",
    "        globals()[df_name] = pd.read_excel('./_index/' + str(yr) + '.xlsx', header=None)\n",
    "    \n",
    "    # new data frame with split value columns \n",
    "    split_columns = globals()[df_name][0].str.split(\" \", n = 1, expand = True)\n",
    "    \n",
    "    # making separate contractor/carrier column from new data frame \n",
    "    globals()[df_name][\"contractor/carrier\"] = split_columns[0]\n",
    "    globals()[df_name][\"contractor/carrier\"] = globals()[df_name][\"contractor/carrier\"].astype(str).str.replace('U', '').str.strip()\n",
    "    # Found ID errors in data\n",
    "    globals()[df_name]['contractor/carrier'] = globals()[df_name]['contractor/carrier'].str.replace('0632', '06302').str.replace('01112', '01102')\n",
    "    \n",
    "    # making separate location column from new data frame \n",
    "    globals()[df_name][\"contractor/carrier name\"]= split_columns[1].str.replace('\\d+', '').str.replace('-', '').str.strip().str.replace('-', '').str.lower()\n",
    "    \n",
    "    # reducing number of columns in data frame\n",
    "    globals()[df_name] = globals()[df_name][[\"contractor/carrier\", \"contractor/carrier name\"]]\n",
    "\n",
    "# Create list of dataframes for convenient merging\n",
    "lst_carrier_df = [df_carrier_code_2009,df_carrier_code_2010,df_carrier_code_2011,\n",
    "                  df_carrier_code_2012,df_carrier_code_2013,df_carrier_code_2014,\n",
    "                  df_carrier_code_2015,df_carrier_code_2016,df_carrier_code_2017,\n",
    "                  df_carrier_code_2018,df_carrier_code_2019,df_carrier_code_2020]\n",
    "\n",
    "#  Merge the datasets\n",
    "for i in range(len(lst_yrs)):\n",
    "    lst_df[i] = pd.merge(lst_df[i], lst_carrier_df[i], how='left', left_on='contractor/carrier', right_on='contractor/carrier')"
   ]
  },
  {
   "cell_type": "markdown",
   "metadata": {},
   "source": [
    "#### 1.3 - Clean<a class=\"anchor\" id=\"clean_1_3\"></a>"
   ]
  },
  {
   "cell_type": "code",
   "execution_count": 5,
   "metadata": {},
   "outputs": [
    {
     "data": {
      "text/html": [
       "<div>\n",
       "<style scoped>\n",
       "    .dataframe tbody tr th:only-of-type {\n",
       "        vertical-align: middle;\n",
       "    }\n",
       "\n",
       "    .dataframe tbody tr th {\n",
       "        vertical-align: top;\n",
       "    }\n",
       "\n",
       "    .dataframe thead th {\n",
       "        text-align: right;\n",
       "    }\n",
       "</style>\n",
       "<table border=\"1\" class=\"dataframe\">\n",
       "  <thead>\n",
       "    <tr style=\"text-align: right;\">\n",
       "      <th></th>\n",
       "      <th>year</th>\n",
       "      <th>contractor/carrier</th>\n",
       "      <th>contractor/carrier name</th>\n",
       "      <th>locality</th>\n",
       "      <th>hcpcs</th>\n",
       "      <th>short description</th>\n",
       "      <th>long description</th>\n",
       "      <th>rvu</th>\n",
       "      <th>gpci</th>\n",
       "      <th>base rate</th>\n",
       "      <th>urban base rate / urban mileage</th>\n",
       "      <th>rural base rate / rural mileage</th>\n",
       "      <th>rural base rate / lowest quartile</th>\n",
       "      <th>rural ground miles</th>\n",
       "    </tr>\n",
       "  </thead>\n",
       "  <tbody>\n",
       "    <tr>\n",
       "      <th>293</th>\n",
       "      <td>2017</td>\n",
       "      <td>01102</td>\n",
       "      <td>northern california</td>\n",
       "      <td>75.0</td>\n",
       "      <td>A0430</td>\n",
       "      <td>Fixed wing air transport</td>\n",
       "      <td>Ambulance service, conventional air services, ...</td>\n",
       "      <td>1.00</td>\n",
       "      <td>1.079</td>\n",
       "      <td>3016.510</td>\n",
       "      <td>3135.66</td>\n",
       "      <td>4703.49</td>\n",
       "      <td>NaN</td>\n",
       "      <td>4703.49</td>\n",
       "    </tr>\n",
       "    <tr>\n",
       "      <th>86</th>\n",
       "      <td>2012</td>\n",
       "      <td>00835</td>\n",
       "      <td>oregon</td>\n",
       "      <td>99.0</td>\n",
       "      <td>A0427</td>\n",
       "      <td>Als1-emergency</td>\n",
       "      <td>Ambulance service, advanced life support, emer...</td>\n",
       "      <td>214.47</td>\n",
       "      <td>1.900</td>\n",
       "      <td>0.962</td>\n",
       "      <td>404.59</td>\n",
       "      <td>408.55</td>\n",
       "      <td>500.89</td>\n",
       "      <td>NaN</td>\n",
       "    </tr>\n",
       "    <tr>\n",
       "      <th>323</th>\n",
       "      <td>2018</td>\n",
       "      <td>01182</td>\n",
       "      <td>southern california</td>\n",
       "      <td>18.0</td>\n",
       "      <td>A0436</td>\n",
       "      <td>Rotary wing air mileage</td>\n",
       "      <td>Rotary wing air mileage, per statute mile</td>\n",
       "      <td>1.00</td>\n",
       "      <td>1.177</td>\n",
       "      <td>23.090</td>\n",
       "      <td>23.09</td>\n",
       "      <td>34.64</td>\n",
       "      <td>NaN</td>\n",
       "      <td>34.64</td>\n",
       "    </tr>\n",
       "    <tr>\n",
       "      <th>1226</th>\n",
       "      <td>2020</td>\n",
       "      <td>13292</td>\n",
       "      <td>ghi/new york</td>\n",
       "      <td>4.0</td>\n",
       "      <td>A0427</td>\n",
       "      <td>Als1-emergency</td>\n",
       "      <td>Ambulance service, advanced life support, emer...</td>\n",
       "      <td>1.90</td>\n",
       "      <td>1.214</td>\n",
       "      <td>231.980</td>\n",
       "      <td>516.92</td>\n",
       "      <td>521.99</td>\n",
       "      <td>639.96</td>\n",
       "      <td>NaN</td>\n",
       "    </tr>\n",
       "    <tr>\n",
       "      <th>507</th>\n",
       "      <td>2015</td>\n",
       "      <td>06102</td>\n",
       "      <td>illinois</td>\n",
       "      <td>15.0</td>\n",
       "      <td>A0428</td>\n",
       "      <td>Bls</td>\n",
       "      <td>Ambulance service, basic life support, non-eme...</td>\n",
       "      <td>221.63</td>\n",
       "      <td>1.000</td>\n",
       "      <td>1.057</td>\n",
       "      <td>235.08</td>\n",
       "      <td>237.39</td>\n",
       "      <td>291.04</td>\n",
       "      <td>NaN</td>\n",
       "    </tr>\n",
       "  </tbody>\n",
       "</table>\n",
       "</div>"
      ],
      "text/plain": [
       "      year contractor/carrier contractor/carrier name  locality  hcpcs  \\\n",
       "293   2017              01102     northern california      75.0  A0430   \n",
       "86    2012              00835                  oregon      99.0  A0427   \n",
       "323   2018              01182     southern california      18.0  A0436   \n",
       "1226  2020              13292            ghi/new york       4.0  A0427   \n",
       "507   2015              06102                illinois      15.0  A0428   \n",
       "\n",
       "             short description  \\\n",
       "293   Fixed wing air transport   \n",
       "86              Als1-emergency   \n",
       "323    Rotary wing air mileage   \n",
       "1226            Als1-emergency   \n",
       "507                        Bls   \n",
       "\n",
       "                                       long description     rvu   gpci  \\\n",
       "293   Ambulance service, conventional air services, ...    1.00  1.079   \n",
       "86    Ambulance service, advanced life support, emer...  214.47  1.900   \n",
       "323           Rotary wing air mileage, per statute mile    1.00  1.177   \n",
       "1226  Ambulance service, advanced life support, emer...    1.90  1.214   \n",
       "507   Ambulance service, basic life support, non-eme...  221.63  1.000   \n",
       "\n",
       "      base rate  urban base rate / urban mileage  \\\n",
       "293    3016.510                          3135.66   \n",
       "86        0.962                           404.59   \n",
       "323      23.090                            23.09   \n",
       "1226    231.980                           516.92   \n",
       "507       1.057                           235.08   \n",
       "\n",
       "      rural base rate / rural mileage  rural base rate / lowest quartile  \\\n",
       "293                           4703.49                                NaN   \n",
       "86                             408.55                             500.89   \n",
       "323                             34.64                                NaN   \n",
       "1226                           521.99                             639.96   \n",
       "507                            237.39                             291.04   \n",
       "\n",
       "      rural ground miles  \n",
       "293              4703.49  \n",
       "86                   NaN  \n",
       "323                34.64  \n",
       "1226                 NaN  \n",
       "507                  NaN  "
      ]
     },
     "execution_count": 5,
     "metadata": {},
     "output_type": "execute_result"
    }
   ],
   "source": [
    "# Create list of column names for an intuitive reordering\n",
    "col_reorder = ['year','contractor/carrier','contractor/carrier name',\n",
    "               'locality','hcpcs','short description','long description',\n",
    "               'rvu','gpci','base rate','urban base rate / urban mileage',\n",
    "               'rural base rate / rural mileage','rural base rate / lowest quartile',\n",
    "               'rural ground miles']\n",
    "\n",
    "# Reorder columns\n",
    "for i in range(len(lst_yrs)):\n",
    "    lst_df[i]['year'] = lst_yrs[i]\n",
    "    lst_df[i] = lst_df[i][col_reorder]\n",
    "    \n",
    "# Compile all dataframes\n",
    "df = pd.concat(lst_df)\n",
    "df.sample(5)"
   ]
  },
  {
   "cell_type": "markdown",
   "metadata": {},
   "source": [
    "### 2 - Visualization<a class=\"anchor\" id=\"vis_2\"></a>"
   ]
  },
  {
   "cell_type": "code",
   "execution_count": null,
   "metadata": {},
   "outputs": [],
   "source": []
  },
  {
   "cell_type": "markdown",
   "metadata": {},
   "source": [
    "#### 2.1 - Nation-Wide<a class=\"anchor\" id=\"vis_nation_2_1\"></a>"
   ]
  },
  {
   "cell_type": "code",
   "execution_count": null,
   "metadata": {},
   "outputs": [],
   "source": []
  },
  {
   "cell_type": "markdown",
   "metadata": {},
   "source": [
    "#### 2.2 - Statewide<a class=\"anchor\" id=\"vis_state_2_2\"></a>"
   ]
  },
  {
   "cell_type": "code",
   "execution_count": null,
   "metadata": {},
   "outputs": [],
   "source": []
  },
  {
   "cell_type": "markdown",
   "metadata": {},
   "source": [
    "### 3 - Business Application<a class=\"anchor\" id=\"business_app_3\"></a>"
   ]
  },
  {
   "cell_type": "code",
   "execution_count": null,
   "metadata": {},
   "outputs": [],
   "source": []
  },
  {
   "cell_type": "markdown",
   "metadata": {},
   "source": [
    "#### 3.1 - Revenue Forecasting<a class=\"anchor\" id=\"business_app_rev_3_1\"></a>"
   ]
  },
  {
   "cell_type": "code",
   "execution_count": null,
   "metadata": {},
   "outputs": [],
   "source": []
  },
  {
   "cell_type": "markdown",
   "metadata": {},
   "source": [
    "#### 3.2 - Statewide<a class=\"anchor\" id=\"business_app_rev_3_2\"></a>"
   ]
  },
  {
   "cell_type": "code",
   "execution_count": null,
   "metadata": {},
   "outputs": [],
   "source": []
  },
  {
   "cell_type": "code",
   "execution_count": null,
   "metadata": {},
   "outputs": [],
   "source": []
  },
  {
   "cell_type": "code",
   "execution_count": null,
   "metadata": {},
   "outputs": [],
   "source": []
  },
  {
   "cell_type": "code",
   "execution_count": null,
   "metadata": {},
   "outputs": [],
   "source": []
  },
  {
   "cell_type": "code",
   "execution_count": null,
   "metadata": {},
   "outputs": [],
   "source": []
  },
  {
   "cell_type": "code",
   "execution_count": null,
   "metadata": {},
   "outputs": [],
   "source": []
  },
  {
   "cell_type": "code",
   "execution_count": null,
   "metadata": {},
   "outputs": [],
   "source": []
  },
  {
   "cell_type": "code",
   "execution_count": null,
   "metadata": {},
   "outputs": [],
   "source": []
  },
  {
   "cell_type": "code",
   "execution_count": null,
   "metadata": {},
   "outputs": [],
   "source": []
  },
  {
   "cell_type": "code",
   "execution_count": null,
   "metadata": {},
   "outputs": [],
   "source": []
  },
  {
   "cell_type": "code",
   "execution_count": null,
   "metadata": {},
   "outputs": [],
   "source": []
  },
  {
   "cell_type": "code",
   "execution_count": null,
   "metadata": {},
   "outputs": [],
   "source": []
  },
  {
   "cell_type": "code",
   "execution_count": null,
   "metadata": {},
   "outputs": [],
   "source": []
  },
  {
   "cell_type": "code",
   "execution_count": null,
   "metadata": {},
   "outputs": [],
   "source": []
  },
  {
   "cell_type": "code",
   "execution_count": null,
   "metadata": {},
   "outputs": [],
   "source": []
  },
  {
   "cell_type": "code",
   "execution_count": null,
   "metadata": {},
   "outputs": [],
   "source": []
  }
 ],
 "metadata": {
  "kernelspec": {
   "display_name": "Python 3",
   "language": "python",
   "name": "python3"
  },
  "language_info": {
   "codemirror_mode": {
    "name": "ipython",
    "version": 3
   },
   "file_extension": ".py",
   "mimetype": "text/x-python",
   "name": "python",
   "nbconvert_exporter": "python",
   "pygments_lexer": "ipython3",
   "version": "3.7.6"
  }
 },
 "nbformat": 4,
 "nbformat_minor": 4
}
